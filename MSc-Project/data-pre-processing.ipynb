{
 "cells": [
  {
   "cell_type": "markdown",
   "id": "41e70e9f",
   "metadata": {},
   "source": [
    "# Loading Libraries"
   ]
  },
  {
   "cell_type": "code",
   "execution_count": 2,
   "id": "bf461d48",
   "metadata": {},
   "outputs": [],
   "source": [
    "import numpy as np\n",
    "import pandas as pd\n",
    "from pandas.plotting import scatter_matrix\n",
    "from pandas import Series, DataFrame\n",
    "import matplotlib.pyplot as plt\n",
    "from pylab import rcParams\n",
    "import seaborn as sb"
   ]
  },
  {
   "cell_type": "code",
   "execution_count": 3,
   "id": "a6a39b5f",
   "metadata": {},
   "outputs": [],
   "source": [
    "%matplotlib inline \n",
    "rcParams['figure.figsize'] = 5,4\n",
    "sb.set_style('whitegrid')"
   ]
  },
  {
   "cell_type": "markdown",
   "id": "e75c82e9",
   "metadata": {},
   "source": [
    "# Loading Dataset"
   ]
  },
  {
   "cell_type": "code",
   "execution_count": 4,
   "id": "2e9f5f02",
   "metadata": {},
   "outputs": [],
   "source": [
    "df = pd.read_csv(\"telecomm.csv\")\n",
    "df_dict1 = pd.read_csv(\"data_dictionary.csv\")"
   ]
  },
  {
   "cell_type": "code",
   "execution_count": 4,
   "id": "062cd5c4",
   "metadata": {
    "scrolled": true
   },
   "outputs": [
    {
     "data": {
      "text/html": [
       "<div>\n",
       "<style scoped>\n",
       "    .dataframe tbody tr th:only-of-type {\n",
       "        vertical-align: middle;\n",
       "    }\n",
       "\n",
       "    .dataframe tbody tr th {\n",
       "        vertical-align: top;\n",
       "    }\n",
       "\n",
       "    .dataframe thead th {\n",
       "        text-align: right;\n",
       "    }\n",
       "</style>\n",
       "<table border=\"1\" class=\"dataframe\">\n",
       "  <thead>\n",
       "    <tr style=\"text-align: right;\">\n",
       "      <th></th>\n",
       "      <th>id</th>\n",
       "      <th>circle_id</th>\n",
       "      <th>loc_og_t2o_mou</th>\n",
       "      <th>std_og_t2o_mou</th>\n",
       "      <th>loc_ic_t2o_mou</th>\n",
       "      <th>last_date_of_month_6</th>\n",
       "      <th>last_date_of_month_7</th>\n",
       "      <th>last_date_of_month_8</th>\n",
       "      <th>arpu_6</th>\n",
       "      <th>arpu_7</th>\n",
       "      <th>...</th>\n",
       "      <th>sachet_3g_7</th>\n",
       "      <th>sachet_3g_8</th>\n",
       "      <th>fb_user_6</th>\n",
       "      <th>fb_user_7</th>\n",
       "      <th>fb_user_8</th>\n",
       "      <th>aon</th>\n",
       "      <th>aug_vbc_3g</th>\n",
       "      <th>jul_vbc_3g</th>\n",
       "      <th>jun_vbc_3g</th>\n",
       "      <th>churn_probability</th>\n",
       "    </tr>\n",
       "  </thead>\n",
       "  <tbody>\n",
       "    <tr>\n",
       "      <th>0</th>\n",
       "      <td>0</td>\n",
       "      <td>109</td>\n",
       "      <td>0.0</td>\n",
       "      <td>0.0</td>\n",
       "      <td>0.0</td>\n",
       "      <td>6/30/2014</td>\n",
       "      <td>7/31/2014</td>\n",
       "      <td>8/31/2014</td>\n",
       "      <td>31.277</td>\n",
       "      <td>87.009</td>\n",
       "      <td>...</td>\n",
       "      <td>0</td>\n",
       "      <td>0</td>\n",
       "      <td>NaN</td>\n",
       "      <td>NaN</td>\n",
       "      <td>NaN</td>\n",
       "      <td>1958</td>\n",
       "      <td>0.0</td>\n",
       "      <td>0.0</td>\n",
       "      <td>0.0</td>\n",
       "      <td>0</td>\n",
       "    </tr>\n",
       "    <tr>\n",
       "      <th>1</th>\n",
       "      <td>1</td>\n",
       "      <td>109</td>\n",
       "      <td>0.0</td>\n",
       "      <td>0.0</td>\n",
       "      <td>0.0</td>\n",
       "      <td>6/30/2014</td>\n",
       "      <td>7/31/2014</td>\n",
       "      <td>8/31/2014</td>\n",
       "      <td>0.000</td>\n",
       "      <td>122.787</td>\n",
       "      <td>...</td>\n",
       "      <td>0</td>\n",
       "      <td>0</td>\n",
       "      <td>NaN</td>\n",
       "      <td>1.0</td>\n",
       "      <td>NaN</td>\n",
       "      <td>710</td>\n",
       "      <td>0.0</td>\n",
       "      <td>0.0</td>\n",
       "      <td>0.0</td>\n",
       "      <td>0</td>\n",
       "    </tr>\n",
       "    <tr>\n",
       "      <th>2</th>\n",
       "      <td>2</td>\n",
       "      <td>109</td>\n",
       "      <td>0.0</td>\n",
       "      <td>0.0</td>\n",
       "      <td>0.0</td>\n",
       "      <td>6/30/2014</td>\n",
       "      <td>7/31/2014</td>\n",
       "      <td>8/31/2014</td>\n",
       "      <td>60.806</td>\n",
       "      <td>103.176</td>\n",
       "      <td>...</td>\n",
       "      <td>0</td>\n",
       "      <td>0</td>\n",
       "      <td>NaN</td>\n",
       "      <td>NaN</td>\n",
       "      <td>NaN</td>\n",
       "      <td>882</td>\n",
       "      <td>0.0</td>\n",
       "      <td>0.0</td>\n",
       "      <td>0.0</td>\n",
       "      <td>0</td>\n",
       "    </tr>\n",
       "    <tr>\n",
       "      <th>3</th>\n",
       "      <td>3</td>\n",
       "      <td>109</td>\n",
       "      <td>0.0</td>\n",
       "      <td>0.0</td>\n",
       "      <td>0.0</td>\n",
       "      <td>6/30/2014</td>\n",
       "      <td>7/31/2014</td>\n",
       "      <td>8/31/2014</td>\n",
       "      <td>156.362</td>\n",
       "      <td>205.260</td>\n",
       "      <td>...</td>\n",
       "      <td>0</td>\n",
       "      <td>0</td>\n",
       "      <td>NaN</td>\n",
       "      <td>NaN</td>\n",
       "      <td>NaN</td>\n",
       "      <td>982</td>\n",
       "      <td>0.0</td>\n",
       "      <td>0.0</td>\n",
       "      <td>0.0</td>\n",
       "      <td>0</td>\n",
       "    </tr>\n",
       "    <tr>\n",
       "      <th>4</th>\n",
       "      <td>4</td>\n",
       "      <td>109</td>\n",
       "      <td>0.0</td>\n",
       "      <td>0.0</td>\n",
       "      <td>0.0</td>\n",
       "      <td>6/30/2014</td>\n",
       "      <td>7/31/2014</td>\n",
       "      <td>8/31/2014</td>\n",
       "      <td>240.708</td>\n",
       "      <td>128.191</td>\n",
       "      <td>...</td>\n",
       "      <td>1</td>\n",
       "      <td>0</td>\n",
       "      <td>1.0</td>\n",
       "      <td>1.0</td>\n",
       "      <td>1.0</td>\n",
       "      <td>647</td>\n",
       "      <td>0.0</td>\n",
       "      <td>0.0</td>\n",
       "      <td>0.0</td>\n",
       "      <td>0</td>\n",
       "    </tr>\n",
       "  </tbody>\n",
       "</table>\n",
       "<p>5 rows × 172 columns</p>\n",
       "</div>"
      ],
      "text/plain": [
       "   id  circle_id  loc_og_t2o_mou  std_og_t2o_mou  loc_ic_t2o_mou  \\\n",
       "0   0        109             0.0             0.0             0.0   \n",
       "1   1        109             0.0             0.0             0.0   \n",
       "2   2        109             0.0             0.0             0.0   \n",
       "3   3        109             0.0             0.0             0.0   \n",
       "4   4        109             0.0             0.0             0.0   \n",
       "\n",
       "  last_date_of_month_6 last_date_of_month_7 last_date_of_month_8   arpu_6  \\\n",
       "0            6/30/2014            7/31/2014            8/31/2014   31.277   \n",
       "1            6/30/2014            7/31/2014            8/31/2014    0.000   \n",
       "2            6/30/2014            7/31/2014            8/31/2014   60.806   \n",
       "3            6/30/2014            7/31/2014            8/31/2014  156.362   \n",
       "4            6/30/2014            7/31/2014            8/31/2014  240.708   \n",
       "\n",
       "    arpu_7  ...  sachet_3g_7  sachet_3g_8  fb_user_6  fb_user_7  fb_user_8  \\\n",
       "0   87.009  ...            0            0        NaN        NaN        NaN   \n",
       "1  122.787  ...            0            0        NaN        1.0        NaN   \n",
       "2  103.176  ...            0            0        NaN        NaN        NaN   \n",
       "3  205.260  ...            0            0        NaN        NaN        NaN   \n",
       "4  128.191  ...            1            0        1.0        1.0        1.0   \n",
       "\n",
       "    aon  aug_vbc_3g  jul_vbc_3g  jun_vbc_3g  churn_probability  \n",
       "0  1958         0.0         0.0         0.0                  0  \n",
       "1   710         0.0         0.0         0.0                  0  \n",
       "2   882         0.0         0.0         0.0                  0  \n",
       "3   982         0.0         0.0         0.0                  0  \n",
       "4   647         0.0         0.0         0.0                  0  \n",
       "\n",
       "[5 rows x 172 columns]"
      ]
     },
     "execution_count": 4,
     "metadata": {},
     "output_type": "execute_result"
    }
   ],
   "source": [
    "df.head()"
   ]
  },
  {
   "cell_type": "code",
   "execution_count": 5,
   "id": "5eccbff3",
   "metadata": {
    "scrolled": true
   },
   "outputs": [
    {
     "name": "stdout",
     "output_type": "stream",
     "text": [
      "       Acronyms                                        Description\n",
      "0     CIRCLE_ID  Telecom circle area to which the customer belo...\n",
      "1           LOC            Local calls  within same telecom circle\n",
      "2           STD              STD calls  outside the calling circle\n",
      "3            IC                                     Incoming calls\n",
      "4            OG                                     Outgoing calls\n",
      "5           T2T  Operator T to T ie within same operator mobile...\n",
      "6       T2M                    Operator T to other operator mobile\n",
      "7       T2O                Operator T to other operator fixed line\n",
      "8       T2F                         Operator T to fixed lines of T\n",
      "9       T2C                      Operator T to its own call center\n",
      "10     ARPU                               Average revenue per user\n",
      "11      MOU                          Minutes of usage  voice calls\n",
      "12      AON      Age on network  number of days the customer is...\n",
      "13     ONNET     All kind of calls within the same operator net...\n",
      "14   OFFNET       All kind of calls outside the operator T network\n",
      "15         ROAM  Indicates that customer is in roaming zone dur...\n",
      "16       SPL                                         Special calls\n",
      "17      ISD                                              ISD calls\n",
      "18     RECH                                               Recharge\n",
      "19      NUM                                                 Number\n",
      "20      AMT                               Amount in local currency\n",
      "21      MAX                                                Maximum\n",
      "22     DATA                                        Mobile internet\n",
      "23       3G                                              G network\n",
      "24       AV                                                Average\n",
      "25      VOL                     Mobile internet usage volume in MB\n",
      "26       2G                                              G network\n",
      "27      PCK                  Prepaid service schemes called  PACKS\n",
      "28    NIGHT         Scheme to use during specific night hours only\n",
      "29  MONTHLY      Service schemes with validity equivalent to a ...\n",
      "30    SACHET     Service schemes with validity smaller than a m...\n",
      "31      *.6                              KPI for the month of June\n",
      "32      *.7                              KPI for the month of July\n",
      "33      *.8                            KPI for the month of August\n",
      "34      FB_USER  Service scheme to avail services of Facebook a...\n",
      "35      VBC      Volume based cost  when no specific scheme is ...\n"
     ]
    }
   ],
   "source": [
    "print(df_dict1)"
   ]
  },
  {
   "cell_type": "code",
   "execution_count": 6,
   "id": "2db3229f",
   "metadata": {},
   "outputs": [
    {
     "data": {
      "text/plain": [
       "(69999, 172)"
      ]
     },
     "execution_count": 6,
     "metadata": {},
     "output_type": "execute_result"
    }
   ],
   "source": [
    "df.shape"
   ]
  },
  {
   "cell_type": "code",
   "execution_count": 7,
   "id": "b3a0e0c3",
   "metadata": {
    "scrolled": true
   },
   "outputs": [
    {
     "data": {
      "text/html": [
       "<div>\n",
       "<style scoped>\n",
       "    .dataframe tbody tr th:only-of-type {\n",
       "        vertical-align: middle;\n",
       "    }\n",
       "\n",
       "    .dataframe tbody tr th {\n",
       "        vertical-align: top;\n",
       "    }\n",
       "\n",
       "    .dataframe thead th {\n",
       "        text-align: right;\n",
       "    }\n",
       "</style>\n",
       "<table border=\"1\" class=\"dataframe\">\n",
       "  <thead>\n",
       "    <tr style=\"text-align: right;\">\n",
       "      <th></th>\n",
       "      <th>id</th>\n",
       "      <th>circle_id</th>\n",
       "      <th>loc_og_t2o_mou</th>\n",
       "      <th>std_og_t2o_mou</th>\n",
       "      <th>loc_ic_t2o_mou</th>\n",
       "      <th>arpu_6</th>\n",
       "      <th>arpu_7</th>\n",
       "      <th>arpu_8</th>\n",
       "      <th>onnet_mou_6</th>\n",
       "      <th>onnet_mou_7</th>\n",
       "      <th>...</th>\n",
       "      <th>sachet_3g_7</th>\n",
       "      <th>sachet_3g_8</th>\n",
       "      <th>fb_user_6</th>\n",
       "      <th>fb_user_7</th>\n",
       "      <th>fb_user_8</th>\n",
       "      <th>aon</th>\n",
       "      <th>aug_vbc_3g</th>\n",
       "      <th>jul_vbc_3g</th>\n",
       "      <th>jun_vbc_3g</th>\n",
       "      <th>churn_probability</th>\n",
       "    </tr>\n",
       "  </thead>\n",
       "  <tbody>\n",
       "    <tr>\n",
       "      <th>count</th>\n",
       "      <td>69999.000000</td>\n",
       "      <td>69999.0</td>\n",
       "      <td>69297.0</td>\n",
       "      <td>69297.0</td>\n",
       "      <td>69297.0</td>\n",
       "      <td>69999.000000</td>\n",
       "      <td>69999.000000</td>\n",
       "      <td>69999.000000</td>\n",
       "      <td>67231.000000</td>\n",
       "      <td>67312.000000</td>\n",
       "      <td>...</td>\n",
       "      <td>69999.000000</td>\n",
       "      <td>69999.000000</td>\n",
       "      <td>17568.000000</td>\n",
       "      <td>17865.000000</td>\n",
       "      <td>18417.000000</td>\n",
       "      <td>69999.000000</td>\n",
       "      <td>69999.000000</td>\n",
       "      <td>69999.000000</td>\n",
       "      <td>69999.00000</td>\n",
       "      <td>69999.000000</td>\n",
       "    </tr>\n",
       "    <tr>\n",
       "      <th>mean</th>\n",
       "      <td>34999.000000</td>\n",
       "      <td>109.0</td>\n",
       "      <td>0.0</td>\n",
       "      <td>0.0</td>\n",
       "      <td>0.0</td>\n",
       "      <td>283.134365</td>\n",
       "      <td>278.185912</td>\n",
       "      <td>278.858826</td>\n",
       "      <td>133.153275</td>\n",
       "      <td>133.894438</td>\n",
       "      <td>...</td>\n",
       "      <td>0.081444</td>\n",
       "      <td>0.085487</td>\n",
       "      <td>0.916325</td>\n",
       "      <td>0.909544</td>\n",
       "      <td>0.890319</td>\n",
       "      <td>1220.639709</td>\n",
       "      <td>68.108597</td>\n",
       "      <td>65.935830</td>\n",
       "      <td>60.07674</td>\n",
       "      <td>0.101887</td>\n",
       "    </tr>\n",
       "    <tr>\n",
       "      <th>std</th>\n",
       "      <td>20207.115084</td>\n",
       "      <td>0.0</td>\n",
       "      <td>0.0</td>\n",
       "      <td>0.0</td>\n",
       "      <td>0.0</td>\n",
       "      <td>334.213918</td>\n",
       "      <td>344.366927</td>\n",
       "      <td>351.924315</td>\n",
       "      <td>299.963093</td>\n",
       "      <td>311.277193</td>\n",
       "      <td>...</td>\n",
       "      <td>0.634547</td>\n",
       "      <td>0.680035</td>\n",
       "      <td>0.276907</td>\n",
       "      <td>0.286842</td>\n",
       "      <td>0.312501</td>\n",
       "      <td>952.426321</td>\n",
       "      <td>269.328659</td>\n",
       "      <td>267.899034</td>\n",
       "      <td>257.22681</td>\n",
       "      <td>0.302502</td>\n",
       "    </tr>\n",
       "    <tr>\n",
       "      <th>min</th>\n",
       "      <td>0.000000</td>\n",
       "      <td>109.0</td>\n",
       "      <td>0.0</td>\n",
       "      <td>0.0</td>\n",
       "      <td>0.0</td>\n",
       "      <td>-2258.709000</td>\n",
       "      <td>-1289.715000</td>\n",
       "      <td>-945.808000</td>\n",
       "      <td>0.000000</td>\n",
       "      <td>0.000000</td>\n",
       "      <td>...</td>\n",
       "      <td>0.000000</td>\n",
       "      <td>0.000000</td>\n",
       "      <td>0.000000</td>\n",
       "      <td>0.000000</td>\n",
       "      <td>0.000000</td>\n",
       "      <td>180.000000</td>\n",
       "      <td>0.000000</td>\n",
       "      <td>0.000000</td>\n",
       "      <td>0.00000</td>\n",
       "      <td>0.000000</td>\n",
       "    </tr>\n",
       "    <tr>\n",
       "      <th>25%</th>\n",
       "      <td>17499.500000</td>\n",
       "      <td>109.0</td>\n",
       "      <td>0.0</td>\n",
       "      <td>0.0</td>\n",
       "      <td>0.0</td>\n",
       "      <td>93.581000</td>\n",
       "      <td>86.714000</td>\n",
       "      <td>84.095000</td>\n",
       "      <td>7.410000</td>\n",
       "      <td>6.675000</td>\n",
       "      <td>...</td>\n",
       "      <td>0.000000</td>\n",
       "      <td>0.000000</td>\n",
       "      <td>1.000000</td>\n",
       "      <td>1.000000</td>\n",
       "      <td>1.000000</td>\n",
       "      <td>468.000000</td>\n",
       "      <td>0.000000</td>\n",
       "      <td>0.000000</td>\n",
       "      <td>0.00000</td>\n",
       "      <td>0.000000</td>\n",
       "    </tr>\n",
       "    <tr>\n",
       "      <th>50%</th>\n",
       "      <td>34999.000000</td>\n",
       "      <td>109.0</td>\n",
       "      <td>0.0</td>\n",
       "      <td>0.0</td>\n",
       "      <td>0.0</td>\n",
       "      <td>197.484000</td>\n",
       "      <td>191.588000</td>\n",
       "      <td>192.234000</td>\n",
       "      <td>34.110000</td>\n",
       "      <td>32.280000</td>\n",
       "      <td>...</td>\n",
       "      <td>0.000000</td>\n",
       "      <td>0.000000</td>\n",
       "      <td>1.000000</td>\n",
       "      <td>1.000000</td>\n",
       "      <td>1.000000</td>\n",
       "      <td>868.000000</td>\n",
       "      <td>0.000000</td>\n",
       "      <td>0.000000</td>\n",
       "      <td>0.00000</td>\n",
       "      <td>0.000000</td>\n",
       "    </tr>\n",
       "    <tr>\n",
       "      <th>75%</th>\n",
       "      <td>52498.500000</td>\n",
       "      <td>109.0</td>\n",
       "      <td>0.0</td>\n",
       "      <td>0.0</td>\n",
       "      <td>0.0</td>\n",
       "      <td>370.791000</td>\n",
       "      <td>365.369500</td>\n",
       "      <td>369.909000</td>\n",
       "      <td>119.390000</td>\n",
       "      <td>115.837500</td>\n",
       "      <td>...</td>\n",
       "      <td>0.000000</td>\n",
       "      <td>0.000000</td>\n",
       "      <td>1.000000</td>\n",
       "      <td>1.000000</td>\n",
       "      <td>1.000000</td>\n",
       "      <td>1813.000000</td>\n",
       "      <td>0.000000</td>\n",
       "      <td>0.000000</td>\n",
       "      <td>0.00000</td>\n",
       "      <td>0.000000</td>\n",
       "    </tr>\n",
       "    <tr>\n",
       "      <th>max</th>\n",
       "      <td>69998.000000</td>\n",
       "      <td>109.0</td>\n",
       "      <td>0.0</td>\n",
       "      <td>0.0</td>\n",
       "      <td>0.0</td>\n",
       "      <td>27731.088000</td>\n",
       "      <td>35145.834000</td>\n",
       "      <td>33543.624000</td>\n",
       "      <td>7376.710000</td>\n",
       "      <td>8157.780000</td>\n",
       "      <td>...</td>\n",
       "      <td>33.000000</td>\n",
       "      <td>41.000000</td>\n",
       "      <td>1.000000</td>\n",
       "      <td>1.000000</td>\n",
       "      <td>1.000000</td>\n",
       "      <td>4337.000000</td>\n",
       "      <td>12916.220000</td>\n",
       "      <td>9165.600000</td>\n",
       "      <td>11166.21000</td>\n",
       "      <td>1.000000</td>\n",
       "    </tr>\n",
       "  </tbody>\n",
       "</table>\n",
       "<p>8 rows × 163 columns</p>\n",
       "</div>"
      ],
      "text/plain": [
       "                 id  circle_id  loc_og_t2o_mou  std_og_t2o_mou  \\\n",
       "count  69999.000000    69999.0         69297.0         69297.0   \n",
       "mean   34999.000000      109.0             0.0             0.0   \n",
       "std    20207.115084        0.0             0.0             0.0   \n",
       "min        0.000000      109.0             0.0             0.0   \n",
       "25%    17499.500000      109.0             0.0             0.0   \n",
       "50%    34999.000000      109.0             0.0             0.0   \n",
       "75%    52498.500000      109.0             0.0             0.0   \n",
       "max    69998.000000      109.0             0.0             0.0   \n",
       "\n",
       "       loc_ic_t2o_mou        arpu_6        arpu_7        arpu_8   onnet_mou_6  \\\n",
       "count         69297.0  69999.000000  69999.000000  69999.000000  67231.000000   \n",
       "mean              0.0    283.134365    278.185912    278.858826    133.153275   \n",
       "std               0.0    334.213918    344.366927    351.924315    299.963093   \n",
       "min               0.0  -2258.709000  -1289.715000   -945.808000      0.000000   \n",
       "25%               0.0     93.581000     86.714000     84.095000      7.410000   \n",
       "50%               0.0    197.484000    191.588000    192.234000     34.110000   \n",
       "75%               0.0    370.791000    365.369500    369.909000    119.390000   \n",
       "max               0.0  27731.088000  35145.834000  33543.624000   7376.710000   \n",
       "\n",
       "        onnet_mou_7  ...   sachet_3g_7   sachet_3g_8     fb_user_6  \\\n",
       "count  67312.000000  ...  69999.000000  69999.000000  17568.000000   \n",
       "mean     133.894438  ...      0.081444      0.085487      0.916325   \n",
       "std      311.277193  ...      0.634547      0.680035      0.276907   \n",
       "min        0.000000  ...      0.000000      0.000000      0.000000   \n",
       "25%        6.675000  ...      0.000000      0.000000      1.000000   \n",
       "50%       32.280000  ...      0.000000      0.000000      1.000000   \n",
       "75%      115.837500  ...      0.000000      0.000000      1.000000   \n",
       "max     8157.780000  ...     33.000000     41.000000      1.000000   \n",
       "\n",
       "          fb_user_7     fb_user_8           aon    aug_vbc_3g    jul_vbc_3g  \\\n",
       "count  17865.000000  18417.000000  69999.000000  69999.000000  69999.000000   \n",
       "mean       0.909544      0.890319   1220.639709     68.108597     65.935830   \n",
       "std        0.286842      0.312501    952.426321    269.328659    267.899034   \n",
       "min        0.000000      0.000000    180.000000      0.000000      0.000000   \n",
       "25%        1.000000      1.000000    468.000000      0.000000      0.000000   \n",
       "50%        1.000000      1.000000    868.000000      0.000000      0.000000   \n",
       "75%        1.000000      1.000000   1813.000000      0.000000      0.000000   \n",
       "max        1.000000      1.000000   4337.000000  12916.220000   9165.600000   \n",
       "\n",
       "        jun_vbc_3g  churn_probability  \n",
       "count  69999.00000       69999.000000  \n",
       "mean      60.07674           0.101887  \n",
       "std      257.22681           0.302502  \n",
       "min        0.00000           0.000000  \n",
       "25%        0.00000           0.000000  \n",
       "50%        0.00000           0.000000  \n",
       "75%        0.00000           0.000000  \n",
       "max    11166.21000           1.000000  \n",
       "\n",
       "[8 rows x 163 columns]"
      ]
     },
     "execution_count": 7,
     "metadata": {},
     "output_type": "execute_result"
    }
   ],
   "source": [
    "df.describe()"
   ]
  },
  {
   "cell_type": "code",
   "execution_count": 8,
   "id": "0ab24d76",
   "metadata": {},
   "outputs": [
    {
     "name": "stdout",
     "output_type": "stream",
     "text": [
      "id                     0\n",
      "circle_id              0\n",
      "loc_og_t2o_mou       702\n",
      "std_og_t2o_mou       702\n",
      "loc_ic_t2o_mou       702\n",
      "                    ... \n",
      "aon                    0\n",
      "aug_vbc_3g             0\n",
      "jul_vbc_3g             0\n",
      "jun_vbc_3g             0\n",
      "churn_probability      0\n",
      "Length: 172, dtype: int64\n"
     ]
    }
   ],
   "source": [
    "print(df.isnull().sum())"
   ]
  },
  {
   "cell_type": "code",
   "execution_count": 9,
   "id": "e22041a1",
   "metadata": {},
   "outputs": [
    {
     "data": {
      "text/plain": [
       "id                     int64\n",
       "circle_id              int64\n",
       "loc_og_t2o_mou       float64\n",
       "std_og_t2o_mou       float64\n",
       "loc_ic_t2o_mou       float64\n",
       "                      ...   \n",
       "aon                    int64\n",
       "aug_vbc_3g           float64\n",
       "jul_vbc_3g           float64\n",
       "jun_vbc_3g           float64\n",
       "churn_probability      int64\n",
       "Length: 172, dtype: object"
      ]
     },
     "execution_count": 9,
     "metadata": {},
     "output_type": "execute_result"
    }
   ],
   "source": [
    "df.dtypes"
   ]
  },
  {
   "cell_type": "code",
   "execution_count": 11,
   "id": "9bdf7a0b",
   "metadata": {},
   "outputs": [],
   "source": [
    "def unique_col_values(df):\n",
    "       for column in df:\n",
    "            if df[column].dtypes=='object':\n",
    "                print(f'{column}: {df[column].unique()}') "
   ]
  },
  {
   "cell_type": "code",
   "execution_count": 12,
   "id": "266f0d5d",
   "metadata": {
    "scrolled": true
   },
   "outputs": [
    {
     "name": "stdout",
     "output_type": "stream",
     "text": [
      "last_date_of_month_6: ['6/30/2014']\n",
      "last_date_of_month_7: ['7/31/2014' nan]\n",
      "last_date_of_month_8: ['8/31/2014' nan]\n",
      "date_of_last_rech_6: ['6/22/2014' '6/12/2014' '6/11/2014' '6/15/2014' '6/25/2014' '6/30/2014'\n",
      " '6/29/2014' '6/20/2014' '6/28/2014' '6/27/2014' '6/26/2014' '6/19/2014'\n",
      " '6/23/2014' '6/24/2014' '6/14/2014' nan '6/5/2014' '6/8/2014' '6/6/2014'\n",
      " '6/16/2014' '6/13/2014' '6/18/2014' '6/21/2014' '6/17/2014' '6/10/2014'\n",
      " '6/7/2014' '6/2/2014' '6/1/2014' '6/3/2014' '6/9/2014' '6/4/2014']\n",
      "date_of_last_rech_7: ['7/10/2014' '7/22/2014' '7/21/2014' '7/26/2014' '7/27/2014' '7/19/2014'\n",
      " '7/30/2014' '7/16/2014' '7/31/2014' '7/20/2014' '7/25/2014' '7/29/2014'\n",
      " '7/28/2014' nan '7/7/2014' '7/18/2014' '7/13/2014' '7/17/2014'\n",
      " '7/12/2014' '7/24/2014' '7/15/2014' '7/1/2014' '7/23/2014' '7/9/2014'\n",
      " '7/8/2014' '7/14/2014' '7/5/2014' '7/4/2014' '7/11/2014' '7/6/2014'\n",
      " '7/2/2014' '7/3/2014']\n",
      "date_of_last_rech_8: ['8/24/2014' '8/26/2014' '8/25/2014' '8/30/2014' '8/28/2014' '8/19/2014'\n",
      " '8/5/2014' '8/27/2014' '8/16/2014' '8/21/2014' '8/22/2014' '8/23/2014'\n",
      " nan '8/15/2014' '8/31/2014' '8/12/2014' '8/10/2014' '8/29/2014'\n",
      " '8/20/2014' '8/13/2014' '8/18/2014' '8/11/2014' '8/14/2014' '8/6/2014'\n",
      " '8/9/2014' '8/8/2014' '8/17/2014' '8/7/2014' '8/1/2014' '8/4/2014'\n",
      " '8/2/2014' '8/3/2014']\n",
      "date_of_last_rech_data_6: [nan '6/25/2014' '6/20/2014' '6/29/2014' '6/16/2014' '6/19/2014'\n",
      " '6/17/2014' '6/26/2014' '6/8/2014' '6/27/2014' '6/22/2014' '6/28/2014'\n",
      " '6/1/2014' '6/30/2014' '6/23/2014' '6/18/2014' '6/10/2014' '6/6/2014'\n",
      " '6/14/2014' '6/13/2014' '6/12/2014' '6/21/2014' '6/11/2014' '6/4/2014'\n",
      " '6/15/2014' '6/2/2014' '6/9/2014' '6/24/2014' '6/3/2014' '6/7/2014'\n",
      " '6/5/2014']\n",
      "date_of_last_rech_data_7: [nan '7/8/2014' '7/23/2014' '7/22/2014' '7/25/2014' '7/17/2014'\n",
      " '7/28/2014' '7/12/2014' '7/3/2014' '7/29/2014' '7/4/2014' '7/5/2014'\n",
      " '7/2/2014' '7/14/2014' '7/26/2014' '7/31/2014' '7/27/2014' '7/13/2014'\n",
      " '7/30/2014' '7/10/2014' '7/24/2014' '7/9/2014' '7/7/2014' '7/21/2014'\n",
      " '7/19/2014' '7/18/2014' '7/1/2014' '7/20/2014' '7/16/2014' '7/6/2014'\n",
      " '7/15/2014' '7/11/2014']\n",
      "date_of_last_rech_data_8: [nan '8/20/2014' '8/2/2014' '8/8/2014' '8/12/2014' '8/31/2014' '8/29/2014'\n",
      " '8/4/2014' '8/9/2014' '8/13/2014' '8/25/2014' '8/28/2014' '8/30/2014'\n",
      " '8/11/2014' '8/19/2014' '8/6/2014' '8/5/2014' '8/23/2014' '8/7/2014'\n",
      " '8/14/2014' '8/18/2014' '8/16/2014' '8/10/2014' '8/24/2014' '8/26/2014'\n",
      " '8/17/2014' '8/1/2014' '8/27/2014' '8/21/2014' '8/22/2014' '8/15/2014'\n",
      " '8/3/2014']\n"
     ]
    }
   ],
   "source": [
    "unique_col_values(df)"
   ]
  },
  {
   "cell_type": "markdown",
   "id": "4c8f85e2",
   "metadata": {},
   "source": [
    "We want to drop some columns as we want to reduce the size of the data frame and for de-identification. "
   ]
  },
  {
   "cell_type": "code",
   "execution_count": 13,
   "id": "189b2781",
   "metadata": {},
   "outputs": [],
   "source": [
    "df.drop(['id','circle_id','loc_og_t2o_mou','std_og_t2o_mou', 'loc_ic_t2o_mou','std_og_t2c_mou_6','std_og_t2c_mou_7','std_og_t2c_mou_8','std_ic_t2o_mou_6', 'std_ic_t2o_mou_7','std_ic_t2o_mou_8','fb_user_6','fb_user_7','fb_user_8','last_date_of_month_6','last_date_of_month_7','last_date_of_month_8' ], axis = 'columns', inplace = True)"
   ]
  },
  {
   "cell_type": "code",
   "execution_count": 15,
   "id": "694ef189",
   "metadata": {},
   "outputs": [
    {
     "data": {
      "text/plain": [
       "(69999, 155)"
      ]
     },
     "execution_count": 15,
     "metadata": {},
     "output_type": "execute_result"
    }
   ],
   "source": [
    "#df.drop(['','','',''], axis = 'columns', inplace = True )\n",
    "df.shape"
   ]
  },
  {
   "cell_type": "code",
   "execution_count": 17,
   "id": "17c87a1e",
   "metadata": {
    "scrolled": true
   },
   "outputs": [],
   "source": [
    "def col_with_zero(df):\n",
    "    zero_sum_columns = df.columns[df.eq(0).sum() > 0]\n",
    "    for col in zero_sum_columns:\n",
    "        zero_sum = (df[col] == 0).sum()\n",
    "        print(f\"Column '{col}' has {zero_sum} zero values.\")\n",
    "#col_with_zero(df)"
   ]
  },
  {
   "cell_type": "markdown",
   "id": "d6922fbf",
   "metadata": {},
   "source": [
    "We still have more features and the next stage is to minimise the featres inorder for us to find potential predictors"
   ]
  },
  {
   "cell_type": "code",
   "execution_count": 56,
   "id": "635782db",
   "metadata": {
    "scrolled": true
   },
   "outputs": [
    {
     "name": "stdout",
     "output_type": "stream",
     "text": [
      "loc_og_t2f_mou_6\n",
      "loc_og_t2f_mou_7\n",
      "loc_og_t2f_mou_8\n",
      "loc_og_t2c_mou_6\n",
      "loc_og_t2c_mou_7\n",
      "loc_og_t2c_mou_8\n",
      "loc_og_mou_6\n",
      "loc_og_mou_7\n",
      "loc_og_mou_8\n",
      "std_og_t2t_mou_6\n",
      "std_og_t2t_mou_7\n",
      "std_og_t2t_mou_8\n",
      "std_og_t2m_mou_6\n",
      "std_og_t2m_mou_7\n",
      "std_og_t2m_mou_8\n",
      "std_og_t2f_mou_6\n",
      "std_og_t2f_mou_7\n",
      "std_og_t2f_mou_8\n",
      "std_og_mou_6\n",
      "std_og_mou_7\n",
      "std_og_mou_8\n",
      "isd_og_mou_6\n",
      "isd_og_mou_7\n",
      "isd_og_mou_8\n",
      "spl_og_mou_6\n",
      "spl_og_mou_7\n",
      "spl_og_mou_8\n",
      "og_others_6\n",
      "og_others_7\n",
      "og_others_8\n",
      "total_og_mou_6\n",
      "total_og_mou_7\n",
      "total_og_mou_8\n",
      "loc_ic_t2t_mou_6\n",
      "loc_ic_t2t_mou_7\n",
      "loc_ic_t2t_mou_8\n",
      "loc_ic_t2m_mou_6\n",
      "loc_ic_t2m_mou_7\n",
      "loc_ic_t2m_mou_8\n",
      "loc_ic_t2f_mou_6\n",
      "loc_ic_t2f_mou_7\n",
      "loc_ic_t2f_mou_8\n",
      "loc_ic_mou_6\n",
      "loc_ic_mou_7\n",
      "loc_ic_mou_8\n",
      "std_ic_t2t_mou_6\n",
      "std_ic_t2t_mou_7\n",
      "std_ic_t2t_mou_8\n",
      "std_ic_t2m_mou_6\n",
      "std_ic_t2m_mou_7\n",
      "std_ic_t2m_mou_8\n",
      "std_ic_t2f_mou_6\n",
      "std_ic_t2f_mou_7\n",
      "std_ic_t2f_mou_8\n",
      "std_ic_mou_6\n",
      "std_ic_mou_7\n",
      "std_ic_mou_8\n",
      "total_ic_mou_6\n",
      "total_ic_mou_7\n",
      "total_ic_mou_8\n",
      "spl_ic_mou_6\n",
      "spl_ic_mou_7\n",
      "spl_ic_mou_8\n",
      "isd_ic_mou_6\n",
      "isd_ic_mou_7\n",
      "isd_ic_mou_8\n",
      "ic_others_6\n",
      "ic_others_7\n",
      "ic_others_8\n",
      "total_rech_num_6\n",
      "total_rech_num_7\n",
      "total_rech_num_8\n",
      "total_rech_amt_6\n",
      "total_rech_amt_7\n",
      "total_rech_amt_8\n",
      "max_rech_amt_6\n",
      "max_rech_amt_7\n",
      "max_rech_amt_8\n",
      "date_of_last_rech_6\n",
      "date_of_last_rech_7\n",
      "date_of_last_rech_8\n",
      "last_day_rch_amt_6\n",
      "last_day_rch_amt_7\n",
      "last_day_rch_amt_8\n",
      "date_of_last_rech_data_6\n",
      "date_of_last_rech_data_7\n",
      "date_of_last_rech_data_8\n",
      "total_rech_data_6\n",
      "total_rech_data_7\n",
      "total_rech_data_8\n",
      "max_rech_data_6\n",
      "max_rech_data_7\n",
      "max_rech_data_8\n",
      "count_rech_2g_6\n",
      "count_rech_2g_7\n",
      "count_rech_2g_8\n",
      "count_rech_3g_6\n",
      "count_rech_3g_7\n",
      "count_rech_3g_8\n",
      "av_rech_amt_data_6\n",
      "av_rech_amt_data_7\n",
      "av_rech_amt_data_8\n",
      "vol_2g_mb_6\n",
      "vol_2g_mb_7\n",
      "vol_2g_mb_8\n",
      "vol_3g_mb_6\n",
      "vol_3g_mb_7\n",
      "vol_3g_mb_8\n",
      "arpu_3g_6\n",
      "arpu_3g_7\n",
      "arpu_3g_8\n",
      "arpu_2g_6\n",
      "arpu_2g_7\n",
      "arpu_2g_8\n",
      "night_pck_user_6\n",
      "night_pck_user_7\n",
      "night_pck_user_8\n",
      "monthly_2g_6\n",
      "monthly_2g_7\n",
      "monthly_2g_8\n",
      "sachet_2g_6\n",
      "sachet_2g_7\n",
      "sachet_2g_8\n",
      "monthly_3g_6\n",
      "monthly_3g_7\n",
      "monthly_3g_8\n",
      "sachet_3g_6\n",
      "sachet_3g_7\n",
      "sachet_3g_8\n",
      "aon\n",
      "churn_probability\n",
      "av_rev_per_user\n",
      "on_net\n",
      "off_net\n",
      "roam_ic\n",
      "roam_og\n",
      "loc_og_t2t\n",
      "loc_og_t2m\n",
      "volume_based_cost_3g\n"
     ]
    }
   ],
   "source": [
    "def print_col(df):\n",
    "    for col in df.columns:\n",
    "        print(col)\n",
    "        \n",
    "print_col(df)        "
   ]
  },
  {
   "cell_type": "code",
   "execution_count": 30,
   "id": "2beaf67e",
   "metadata": {},
   "outputs": [],
   "source": [
    "def add_col(df, col1, col2, col3, new_col):\n",
    "    df[new_col] = df[col1] + df[col2] + df[col3]\n",
    "    return df\n",
    "new_col = 'av_rev_per_user'\n",
    "df = add_col(df, 'arpu_6','arpu_7','arpu_8', new_col)\n",
    "df.drop(['arpu_6','arpu_7','arpu_8'], axis='columns',inplace=True)"
   ]
  },
  {
   "cell_type": "code",
   "execution_count": 32,
   "id": "1936d2c3",
   "metadata": {},
   "outputs": [],
   "source": [
    "def add_col1(df, col1, col2, col3, new_col):\n",
    "    df[new_col] = df[col1] + df[col2] + df[col3]\n",
    "    return df\n",
    "new_col = 'on_net'\n",
    "df = add_col1(df, 'onnet_mou_6','onnet_mou_6','onnet_mou_6', new_col)\n",
    "df.drop(['onnet_mou_6','onnet_mou_7','onnet_mou_8'],axis='columns',inplace=True)"
   ]
  },
  {
   "cell_type": "code",
   "execution_count": 37,
   "id": "669979f7",
   "metadata": {},
   "outputs": [],
   "source": [
    "def add_col2(df, col1, col2, col3, new_col):\n",
    "    df[new_col] = df[col1] + df[col2] + df[col3]\n",
    "    return df\n",
    "new_col = 'off_net'\n",
    "df = add_col2(df, 'offnet_mou_6','offnet_mou_7','offnet_mou_8', new_col)\n",
    "df.drop(['offnet_mou_6','offnet_mou_7','offnet_mou_8'],axis='columns',inplace=True)"
   ]
  },
  {
   "cell_type": "code",
   "execution_count": 40,
   "id": "7ceca1fd",
   "metadata": {},
   "outputs": [],
   "source": [
    "def add_col3(df, col1, col2, col3, new_col):\n",
    "    df[new_col] = df[col1] + df[col2] + df[col3]\n",
    "    return df\n",
    "new_col = 'roam_ic'\n",
    "df = add_col3(df, 'roam_ic_mou_6','roam_ic_mou_7','roam_ic_mou_8', new_col)\n",
    "df.drop(['roam_ic_mou_6','roam_ic_mou_7','roam_ic_mou_8'],axis='columns',inplace=True)"
   ]
  },
  {
   "cell_type": "code",
   "execution_count": 43,
   "id": "d3854cd3",
   "metadata": {},
   "outputs": [],
   "source": [
    "def add_col4(df, col1, col2, col3, new_col):\n",
    "    df[new_col] = df[col1] + df[col2] + df[col3]\n",
    "    return df\n",
    "new_col = 'roam_og'\n",
    "df = add_col4(df, 'roam_og_mou_6','roam_og_mou_7','roam_og_mou_8', new_col)\n",
    "df.drop(['roam_og_mou_6','roam_og_mou_7','roam_og_mou_8'],axis='columns',inplace=True)"
   ]
  },
  {
   "cell_type": "code",
   "execution_count": 46,
   "id": "ff87b331",
   "metadata": {},
   "outputs": [],
   "source": [
    "def add_col5(df, col1, col2, col3, new_col):\n",
    "    df[new_col] = df[col1] + df[col2] + df[col3]\n",
    "    return df\n",
    "new_col = 'loc_og_t2t'\n",
    "df = add_col5(df, 'loc_og_t2t_mou_6','loc_og_t2t_mou_7','loc_og_t2t_mou_8', new_col)\n",
    "df.drop(['loc_og_t2t_mou_6','loc_og_t2t_mou_7','loc_og_t2t_mou_8'],axis='columns',inplace=True)"
   ]
  },
  {
   "cell_type": "code",
   "execution_count": 50,
   "id": "39b81640",
   "metadata": {},
   "outputs": [],
   "source": [
    "def add_col6(df, col1, col2, col3, new_col):\n",
    "    df[new_col] = df[col1] + df[col2] + df[col3]\n",
    "    return df\n",
    "new_col = 'loc_og_t2m'\n",
    "df = add_col6(df, 'loc_og_t2m_mou_6','loc_og_t2m_mou_7','loc_og_t2m_mou_8', new_col)\n",
    "df.drop(['loc_og_t2m_mou_6','loc_og_t2m_mou_7','loc_og_t2m_mou_8'],axis='columns',inplace=True)"
   ]
  },
  {
   "cell_type": "code",
   "execution_count": 55,
   "id": "a3d4b9a5",
   "metadata": {},
   "outputs": [],
   "source": [
    "def add_col7(df, col1, col2, col3, new_col):\n",
    "    df[new_col] = df[col1] + df[col2] + df[col3]\n",
    "    return df\n",
    "new_col = 'volume_based_cost_3g'\n",
    "df = add_col7(df, 'jun_vbc_3g','jul_vbc_3g','aug_vbc_3g', new_col)\n",
    "df.drop(['jun_vbc_3g','jul_vbc_3g','aug_vbc_3g'],axis='columns',inplace=True)"
   ]
  },
  {
   "cell_type": "markdown",
   "id": "40669b42",
   "metadata": {},
   "source": [
    "# Visualising the data if it is balanced"
   ]
  },
  {
   "cell_type": "code",
   "execution_count": 23,
   "id": "e9be65dc",
   "metadata": {},
   "outputs": [
    {
     "data": {
      "text/plain": [
       "(array([62867.,     0.,     0.,     0.,     0.,     0.,     0.,     0.,\n",
       "            0.,  7132.]),\n",
       " array([0. , 0.1, 0.2, 0.3, 0.4, 0.5, 0.6, 0.7, 0.8, 0.9, 1. ]),\n",
       " <BarContainer object of 10 artists>)"
      ]
     },
     "execution_count": 23,
     "metadata": {},
     "output_type": "execute_result"
    },
    {
     "data": {
      "image/png": "[encoded data removed]",
      "text/plain": [
       "<Figure size 500x400 with 1 Axes>"
      ]
     },
     "metadata": {},
     "output_type": "display_data"
    }
   ],
   "source": [
    "plt.xlabel(\"Churn Probability\")\n",
    "plt.ylabel(\"Number of Customers\")\n",
    "plt.title(\"Visualisation of the Churn Probability\")\n",
    "plt.hist(df['churn_probability'], rwidth=0.95, color = 'green')"
   ]
  },
  {
   "cell_type": "code",
   "execution_count": 24,
   "id": "b633b47f",
   "metadata": {},
   "outputs": [
    {
     "name": "stdout",
     "output_type": "stream",
     "text": [
      "0    62867\n",
      "1     7132\n",
      "Name: churn_probability, dtype: int64\n"
     ]
    }
   ],
   "source": [
    "df1 = df['churn_probability'].value_counts()\n",
    "print(df1)"
   ]
  },
  {
   "cell_type": "code",
   "execution_count": 3,
   "id": "e4bf9095",
   "metadata": {},
   "outputs": [
    {
     "data": {
      "text/plain": [
       "<AxesSubplot:ylabel='Frequency'>"
      ]
     },
     "execution_count": 3,
     "metadata": {},
     "output_type": "execute_result"
    },
    {
     "data": {
      "image/png": "[encoded data removed]",
      "text/plain": [
       "<Figure size 640x480 with 1 Axes>"
      ]
     },
     "metadata": {},
     "output_type": "display_data"
    }
   ],
   "source": [
    "churn_p = df['churn_probability']\n",
    "churn_p.plot(kind='hist')"
   ]
  },
  {
   "cell_type": "code",
   "execution_count": 5,
   "id": "0e40016d",
   "metadata": {},
   "outputs": [
    {
     "name": "stdout",
     "output_type": "stream",
     "text": [
      "<class 'pandas.core.frame.DataFrame'>\n",
      "RangeIndex: 69999 entries, 0 to 69998\n",
      "Columns: 172 entries, id to churn_probability\n",
      "dtypes: float64(135), int64(28), object(9)\n",
      "memory usage: 91.9+ MB\n"
     ]
    }
   ],
   "source": [
    "df.info()"
   ]
  },
  {
   "cell_type": "code",
   "execution_count": null,
   "id": "02919823",
   "metadata": {},
   "outputs": [],
   "source": []
  }
 ],
 "metadata": {
  "kernelspec": {
   "display_name": "Python 3 (ipykernel)",
   "language": "python",
   "name": "python3"
  },
  "language_info": {
   "codemirror_mode": {
    "name": "ipython",
    "version": 3
   },
   "file_extension": ".py",
   "mimetype": "text/x-python",
   "name": "python",
   "nbconvert_exporter": "python",
   "pygments_lexer": "ipython3",
   "version": "3.9.13"
  }
 },
 "nbformat": 4,
 "nbformat_minor": 5
}
